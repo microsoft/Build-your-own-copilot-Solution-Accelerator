{
 "cells": [
  {
   "cell_type": "markdown",
   "metadata": {},
   "source": [
    "# Adversarial Simulator"
   ]
  },
  {
   "cell_type": "markdown",
   "metadata": {},
   "source": [
    "###### This notebook demonstrates a simulated adversarial data creation and evaluation."
   ]
  },
  {
   "cell_type": "code",
   "execution_count": null,
   "metadata": {},
   "outputs": [],
   "source": [
    "# Install the packages\n",
    "# %pip install azure-ai-generative[simulator,evaluate] --upgrade"
   ]
  },
  {
   "cell_type": "code",
   "execution_count": null,
   "metadata": {},
   "outputs": [],
   "source": [
    "#Get Azure Key Vault Client\n",
    "key_vault_name = 'kv_to-be-replaced'"
   ]
  },
  {
   "cell_type": "code",
   "execution_count": null,
   "metadata": {},
   "outputs": [],
   "source": [
    "from azure.keyvault.secrets import SecretClient  \n",
    "from azure.identity import DefaultAzureCredential  \n",
    "\n",
    "def get_secrets_from_kv(kv_name, secret_name):\n",
    "    \n",
    "  # Set the name of the Azure Key Vault  \n",
    "  key_vault_name = kv_name \n",
    "    \n",
    "  # Create a credential object using the default Azure credentials  \n",
    "  credential = DefaultAzureCredential()\n",
    "\n",
    "  # Create a secret client object using the credential and Key Vault name  \n",
    "  secret_client = SecretClient(vault_url=f\"https://{key_vault_name}.vault.azure.net/\", credential=credential)  \n",
    "    \n",
    "  # Retrieve the secret value  \n",
    "  return(secret_client.get_secret(secret_name).value)"
   ]
  },
  {
   "cell_type": "markdown",
   "metadata": {},
   "source": [
    "### Parameters and imports"
   ]
  },
  {
   "cell_type": "code",
   "execution_count": null,
   "metadata": {},
   "outputs": [],
   "source": [
    "from pathlib import Path\n",
    "from azure.ai.generative.evaluate import evaluate\n",
    "import json\n",
    "from azure.ai.generative.synthetic.simulator import Simulator\n",
    "from azure.ai.resources.client import AIClient\n",
    "from azure.identity import DefaultAzureCredential\n",
    "from azure.ai.resources.entities import AzureOpenAIModelConfiguration\n",
    "from openai import AsyncAzureOpenAI\n",
    "\n",
    "sub = get_secrets_from_kv(key_vault_name,\"AZURE-SUBSCRIPTION-ID\") #\"19b29b25-a38c-443f-bc1f-e0aaf8e55116\"\n",
    "rg = get_secrets_from_kv(key_vault_name,\"AZURE-RESOURCE-GROUP\") #\"ncbyc-red-teaming-rg\"\n",
    "project_name = 'ai_studio_project_name_to-be-replaced'\n",
    "\n",
    "oai_key = get_secrets_from_kv(key_vault_name,\"AZURE-OPENAI-KEY\")\n",
    "oai_endpoint=  get_secrets_from_kv(key_vault_name,\"AZURE-OPENAI-ENDPOINT\")\n",
    "oai_api_version = \"2023-12-01-preview\" #get_secrets_from_kv(key_vault_name,\"AZURE-OPENAI-PREVIEW-API-VERSION\")\n",
    "\n",
    "oai_client = AsyncAzureOpenAI(api_key=oai_key, \n",
    "                              azure_endpoint=oai_endpoint, \n",
    "                              api_version=oai_api_version)"
   ]
  },
  {
   "cell_type": "code",
   "execution_count": null,
   "metadata": {},
   "outputs": [],
   "source": [
    "async_oai_chat_completion_fn = oai_client.chat.completions.create\n",
    "client = AIClient(\n",
    "    subscription_id=sub, resource_group_name=rg, project_name=project_name, credential=DefaultAzureCredential()\n",
    ")"
   ]
  },
  {
   "cell_type": "markdown",
   "metadata": {},
   "source": [
    "## Simulate the data"
   ]
  },
  {
   "cell_type": "code",
   "execution_count": null,
   "metadata": {},
   "outputs": [],
   "source": [
    "simulator = Simulator.from_fn(fn=async_oai_chat_completion_fn, ai_client=client, model=\"gpt-4\", max_tokens=300)\n",
    "adv_template = Simulator.get_template(\"adv_qa\")"
   ]
  },
  {
   "cell_type": "markdown",
   "metadata": {},
   "source": [
    "## Run the simulator"
   ]
  },
  {
   "cell_type": "code",
   "execution_count": null,
   "metadata": {},
   "outputs": [],
   "source": [
    "outputs = await simulator.simulate_async(\n",
    "    adv_template, max_conversation_turns=1, simulation_result_limit=500, api_call_delay_sec=10\n",
    ")"
   ]
  },
  {
   "cell_type": "markdown",
   "metadata": {},
   "source": [
    "## Print the outputs"
   ]
  },
  {
   "cell_type": "code",
   "execution_count": null,
   "metadata": {},
   "outputs": [],
   "source": [
    "# for line in outputs:\n",
    "#     print(json.dumps(line, indent=2))"
   ]
  },
  {
   "cell_type": "markdown",
   "metadata": {},
   "source": [
    "## Store outputs in file for eval"
   ]
  },
  {
   "cell_type": "code",
   "execution_count": null,
   "metadata": {},
   "outputs": [],
   "source": [
    "eval_name = \"conv-oai-qa-harm-eval_500\"\n",
    "file_name = f\"{eval_name}.jsonl\"\n",
    "jsonl_object = outputs.to_eval_qa_json_lines()\n",
    "with Path.open(file_name, \"w\") as f:\n",
    "    f.write(jsonl_object)"
   ]
  },
  {
   "cell_type": "markdown",
   "metadata": {},
   "source": [
    "## Run evaluate"
   ]
  },
  {
   "cell_type": "code",
   "execution_count": null,
   "metadata": {},
   "outputs": [],
   "source": [
    "import urllib.request\n",
    "import json\n",
    "import os\n",
    "import ssl\n",
    "\n",
    "def qa_fn(chat_history=[], question='', **kwargs):\n",
    "    \n",
    "    data = {\"chat_history\":[],\"query\": question}\n",
    "\n",
    "    body = str.encode(json.dumps(data))\n",
    "\n",
    "    url = 'ai_studio_project_name_to-be-replaced'#get_secrets_from_kv(key_vault_name,\"AI_STUDIO_DRAFT_FLOW_ENDPOINT\")  #prompt flow endpoint url\n",
    "    api_key = 'ai_studio_project_name_to-be-replaced' #get_secrets_from_kv(key_vault_name,\"AI_STUDIO_DRAFT_FLOW_API_KEY\") #prompt flow endpoint key\n",
    "    deployment_name = 'ai_studio_project_name_to-be-replaced' #get_secrets_from_kv(key_vault_name,\"AI_STUDIO_DRAFT_FLOW_DEPLOYMENT_NAME\")\n",
    "\n",
    "    headers = {'Content-Type':'application/json', 'Authorization':('Bearer '+ api_key), 'azureml-model-deployment': deployment_name } #prompt flow endpoint name\n",
    "\n",
    "    req = urllib.request.Request(url, body, headers)\n",
    "\n",
    "    answer = ''\n",
    "    try:\n",
    "        response = urllib.request.urlopen(req)\n",
    "        result = response.read()\n",
    "        answer = json.loads(result)['reply']\n",
    "    except urllib.error.HTTPError as error:\n",
    "        answer = 'The request failed'\n",
    "\n",
    "    return{\n",
    "            \"question\": question,\n",
    "            \"answer\": answer\n",
    "    }"
   ]
  },
  {
   "cell_type": "code",
   "execution_count": null,
   "metadata": {},
   "outputs": [],
   "source": [
    "from azure.ai.generative.evaluate import evaluate\n",
    "\n",
    "data_path = Path.cwd() / \"conv-oai-qa-harm-eval_500.jsonl\"\n",
    "output_path = Path.cwd() / \"downloaded_artifacts_500\" / \"remote\"\n",
    "\n",
    "harms_evaluation = evaluate( \n",
    "    evaluation_name=\"conv-oai-qa-harm-eval_500\", \n",
    "    data=data_path, # red-teamed dataset including harmful content from your chat app\n",
    "    task_type=\"qa\",\n",
    "    metrics_list=[\"violence\", \"self_harm\", \"sexual\", \"hate_fairness\"], #specify content harms metrics\n",
    "    data_mapping={\n",
    "            \"question\": \"question\",\n",
    "            #\"context\": \"context\",\n",
    "            \"answer\": \"answer\",\n",
    "            #\"ground_truth\": \"ground_truth\"\n",
    "        },\n",
    "    output_path=output_path, #optional: save evaluation results .jsonl to local folder path \n",
    "    tracking_uri=client.tracking_uri,\n",
    "    target=qa_fn\n",
    ")"
   ]
  }
 ],
 "metadata": {
  "kernelspec": {
   "display_name": "Python 3 (ipykernel)",
   "language": "python",
   "name": "python3"
  },
  "language_info": {
   "codemirror_mode": {
    "name": "ipython",
    "version": 3
   },
   "file_extension": ".py",
   "mimetype": "text/x-python",
   "name": "python",
   "nbconvert_exporter": "python",
   "pygments_lexer": "ipython3",
   "version": "3.11.7"
  }
 },
 "nbformat": 4,
 "nbformat_minor": 4
}
