{
 "cells": [
  {
   "cell_type": "code",
   "execution_count": 2,
   "metadata": {},
   "outputs": [
    {
     "name": "stdout",
     "output_type": "stream",
     "text": [
      "hello\n"
     ]
    }
   ],
   "source": [
    "print('hello')"
   ]
  },
  {
   "cell_type": "code",
   "execution_count": null,
   "metadata": {},
   "outputs": [
    {
     "name": "stdout",
     "output_type": "stream",
     "text": [
      "Collecting pymssql\n",
      "  Downloading pymssql-2.3.0-cp311-cp311-win_amd64.whl.metadata (7.6 kB)\n",
      "Downloading pymssql-2.3.0-cp311-cp311-win_amd64.whl (2.0 MB)\n",
      "   ---------------------------------------- 0.0/2.0 MB ? eta -:--:--\n",
      "   ------ --------------------------------- 0.3/2.0 MB 7.2 MB/s eta 0:00:01\n",
      "   ----------- ---------------------------- 0.6/2.0 MB 8.8 MB/s eta 0:00:01\n",
      "   ----------- ---------------------------- 0.6/2.0 MB 8.8 MB/s eta 0:00:01\n",
      "   ----------- ---------------------------- 0.6/2.0 MB 1.5 MB/s eta 0:00:01\n",
      "   ----------- ---------------------------- 0.6/2.0 MB 1.5 MB/s eta 0:00:01\n",
      "   ----------- ---------------------------- 0.6/2.0 MB 1.5 MB/s eta 0:00:01\n",
      "   -------------------------- ------------- 1.3/2.0 MB 1.1 MB/s eta 0:00:01\n",
      "   ----------------------------------- ---- 1.8/2.0 MB 1.5 MB/s eta 0:00:01\n",
      "   ----------------------------------- ---- 1.8/2.0 MB 1.5 MB/s eta 0:00:01\n",
      "   ---------------------------------------  2.0/2.0 MB 1.3 MB/s eta 0:00:01\n",
      "   ---------------------------------------  2.0/2.0 MB 1.3 MB/s eta 0:00:01\n",
      "   ---------------------------------------  2.0/2.0 MB 1.3 MB/s eta 0:00:01\n",
      "   ---------------------------------------- 2.0/2.0 MB 991.3 kB/s eta 0:00:00\n",
      "Installing collected packages: pymssql\n",
      "Successfully installed pymssql-2.3.0\n"
     ]
    },
    {
     "name": "stderr",
     "output_type": "stream",
     "text": [
      "WARNING: Skipping C:\\Users\\nachandh\\AppData\\Local\\anaconda3\\Lib\\site-packages\\requests-2.31.0.dist-info due to invalid metadata entry 'name'\n",
      "WARNING: Skipping C:\\Users\\nachandh\\AppData\\Local\\anaconda3\\Lib\\site-packages\\requests-2.31.0.dist-info due to invalid metadata entry 'name'\n",
      "WARNING: Skipping C:\\Users\\nachandh\\AppData\\Local\\anaconda3\\Lib\\site-packages\\requests-2.31.0.dist-info due to invalid metadata entry 'name'\n",
      "WARNING: Skipping C:\\Users\\nachandh\\AppData\\Local\\anaconda3\\Lib\\site-packages\\requests-2.31.0.dist-info due to invalid metadata entry 'name'\n"
     ]
    }
   ],
   "source": [
    "# ! pip install pymssql"
   ]
  },
  {
   "cell_type": "code",
   "execution_count": 4,
   "metadata": {},
   "outputs": [],
   "source": [
    "from os import getenv\n",
    "import pymssql\n",
    "\n",
    "server = 'bycwa-sqldb-server.database.windows.net' #getenv(\"PYMSSQL_TEST_SERVER\")\n",
    "user = 'wasqladmin' #getenv(\"PYMSSQL_TEST_USERNAME\")\n",
    "password = 'Initial_0524' #getenv(\"PYMSSQL_TEST_PASSWORD\")\n",
    "\n",
    "conn = pymssql.connect(server, user, password, \"bycwa-sqldb\")\n",
    "cursor = conn.cursor()\n",
    "# cursor.execute(\"\"\"\n",
    "# IF OBJECT_ID('persons', 'U') IS NOT NULL\n",
    "#     DROP TABLE persons\n",
    "# CREATE TABLE persons (\n",
    "#     id INT NOT NULL,\n",
    "#     name VARCHAR(100),\n",
    "#     salesrep VARCHAR(100),\n",
    "#     PRIMARY KEY(id)\n",
    "# )\n",
    "# \"\"\")\n",
    "# cursor.executemany(\n",
    "#     \"INSERT INTO persons VALUES (%d, %s, %s)\",\n",
    "#     [(1, 'John Smith', 'John Doe'),\n",
    "#      (2, 'Jane Doe', 'Joe Dog'),\n",
    "#      (3, 'Mike T.', 'Sarah H.')])\n",
    "# # you must call commit() to persist your data if you don't set autocommit to True\n",
    "# conn.commit()\n",
    "\n",
    "cursor.execute('SELECT * FROM clients')\n",
    "row = cursor.fetchone()\n",
    "while row:\n",
    "    print(row)\n",
    "    row = cursor.fetchone()\n",
    "\n",
    "conn.close()"
   ]
  }
 ],
 "metadata": {
  "kernelspec": {
   "display_name": "Python 3",
   "language": "python",
   "name": "python3"
  },
  "language_info": {
   "codemirror_mode": {
    "name": "ipython",
    "version": 3
   },
   "file_extension": ".py",
   "mimetype": "text/x-python",
   "name": "python",
   "nbconvert_exporter": "python",
   "pygments_lexer": "ipython3",
   "version": "3.11.7"
  }
 },
 "nbformat": 4,
 "nbformat_minor": 2
}
